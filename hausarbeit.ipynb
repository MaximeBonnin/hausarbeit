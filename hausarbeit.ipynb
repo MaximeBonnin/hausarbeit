{
 "cells": [
  {
   "attachments": {},
   "cell_type": "markdown",
   "metadata": {},
   "source": [
    "# Hausarbeit im Seminar Textanalyse WiSe 22/23\n",
    "## Research Question\n",
    "\n",
    "Wo sind die Parteien der Hochschulwahlen 2023 in Göttingen im Vergleich zu Bundestagsparteien auf einer Links-Rechts Skala einzuordnen?\n",
    "\n",
    "## Vorbereitung\n",
    "Zunächst werden die Parteien definieiert und die Wahlprogramme (soweit vorhanden) eingelesen."
   ]
  },
  {
   "cell_type": "code",
   "execution_count": 2,
   "metadata": {},
   "outputs": [],
   "source": [
    "# import modules\n",
    "\n",
    "import pandas as pd\n",
    "from nltk.corpus import stopwords\n",
    "import spacy\n",
    "from wordscores3 import Wordscores\n",
    "import matplotlib.pyplot as plt"
   ]
  },
  {
   "cell_type": "code",
   "execution_count": 2,
   "metadata": {},
   "outputs": [
    {
     "data": {
      "text/html": [
       "<div>\n",
       "<style scoped>\n",
       "    .dataframe tbody tr th:only-of-type {\n",
       "        vertical-align: middle;\n",
       "    }\n",
       "\n",
       "    .dataframe tbody tr th {\n",
       "        vertical-align: top;\n",
       "    }\n",
       "\n",
       "    .dataframe thead th {\n",
       "        text-align: right;\n",
       "    }\n",
       "</style>\n",
       "<table border=\"1\" class=\"dataframe\">\n",
       "  <thead>\n",
       "    <tr style=\"text-align: right;\">\n",
       "      <th></th>\n",
       "      <th>party</th>\n",
       "      <th>program</th>\n",
       "    </tr>\n",
       "  </thead>\n",
       "  <tbody>\n",
       "    <tr>\n",
       "      <th>0</th>\n",
       "      <td>ALL_BB</td>\n",
       "      <td>test test test Email sent, waiting for response</td>\n",
       "    </tr>\n",
       "    <tr>\n",
       "      <th>1</th>\n",
       "      <td>GDF</td>\n",
       "      <td>Hochschulpolitik - Nicht mehr und nicht wenige...</td>\n",
       "    </tr>\n",
       "    <tr>\n",
       "      <th>2</th>\n",
       "      <td>GHG</td>\n",
       "      <td>Liebe Studis, \\nEs ist wieder so weit, die Hoc...</td>\n",
       "    </tr>\n",
       "    <tr>\n",
       "      <th>3</th>\n",
       "      <td>JUSO</td>\n",
       "      <td>Liebe Wähler*innen,\\nvor euch seht ihr unser W...</td>\n",
       "    </tr>\n",
       "    <tr>\n",
       "      <th>4</th>\n",
       "      <td>LHG</td>\n",
       "      <td>AStA-Beiträge senken\\nAllgemeine Studiengebühr...</td>\n",
       "    </tr>\n",
       "    <tr>\n",
       "      <th>5</th>\n",
       "      <td>LISTE_VOLT</td>\n",
       "      <td>Volt &amp; Die LISTE verstehen sich als linkes, pr...</td>\n",
       "    </tr>\n",
       "    <tr>\n",
       "      <th>6</th>\n",
       "      <td>NORDCAMPUS</td>\n",
       "      <td>Mehr interdisziplinäre Zusammenarbeit\\nViele S...</td>\n",
       "    </tr>\n",
       "    <tr>\n",
       "      <th>7</th>\n",
       "      <td>RCDS</td>\n",
       "      <td>Auslandsstudium\\nWer ein Semester im Ausland v...</td>\n",
       "    </tr>\n",
       "    <tr>\n",
       "      <th>8</th>\n",
       "      <td>CDU</td>\n",
       "      <td>Das Programm für Stabilität und Erneuerung. GE...</td>\n",
       "    </tr>\n",
       "    <tr>\n",
       "      <th>9</th>\n",
       "      <td>FDP</td>\n",
       "      <td>Nie gab es mehr zu tun Wahlprogramm der Freien...</td>\n",
       "    </tr>\n",
       "    <tr>\n",
       "      <th>10</th>\n",
       "      <td>Grüne</td>\n",
       "      <td>Deutschland. Alles ist drin. Bundestagswahlpro...</td>\n",
       "    </tr>\n",
       "    <tr>\n",
       "      <th>11</th>\n",
       "      <td>SPD</td>\n",
       "      <td>Aus Respekt vor deiner Zukunft Das Zukunftspro...</td>\n",
       "    </tr>\n",
       "    <tr>\n",
       "      <th>12</th>\n",
       "      <td>AfD</td>\n",
       "      <td>Deutschland. Aber normal. Programm der Alterna...</td>\n",
       "    </tr>\n",
       "    <tr>\n",
       "      <th>13</th>\n",
       "      <td>Linke</td>\n",
       "      <td>Zeit zu handeln! Für soziale Sicherheit, Fried...</td>\n",
       "    </tr>\n",
       "  </tbody>\n",
       "</table>\n",
       "</div>"
      ],
      "text/plain": [
       "         party                                            program\n",
       "0       ALL_BB    test test test Email sent, waiting for response\n",
       "1          GDF  Hochschulpolitik - Nicht mehr und nicht wenige...\n",
       "2          GHG  Liebe Studis, \\nEs ist wieder so weit, die Hoc...\n",
       "3         JUSO  Liebe Wähler*innen,\\nvor euch seht ihr unser W...\n",
       "4          LHG  AStA-Beiträge senken\\nAllgemeine Studiengebühr...\n",
       "5   LISTE_VOLT  Volt & Die LISTE verstehen sich als linkes, pr...\n",
       "6   NORDCAMPUS  Mehr interdisziplinäre Zusammenarbeit\\nViele S...\n",
       "7         RCDS  Auslandsstudium\\nWer ein Semester im Ausland v...\n",
       "8          CDU  Das Programm für Stabilität und Erneuerung. GE...\n",
       "9          FDP  Nie gab es mehr zu tun Wahlprogramm der Freien...\n",
       "10       Grüne  Deutschland. Alles ist drin. Bundestagswahlpro...\n",
       "11         SPD  Aus Respekt vor deiner Zukunft Das Zukunftspro...\n",
       "12         AfD  Deutschland. Aber normal. Programm der Alterna...\n",
       "13       Linke  Zeit zu handeln! Für soziale Sicherheit, Fried..."
      ]
     },
     "execution_count": 2,
     "metadata": {},
     "output_type": "execute_result"
    }
   ],
   "source": [
    "PARTIES = [\n",
    "    \"ALL_BB\",\n",
    "    \"GDF\",\n",
    "    \"GHG\",\n",
    "    \"JUSO\",\n",
    "    \"LHG\",\n",
    "    \"LISTE_VOLT\",\n",
    "    \"NORDCAMPUS\",\n",
    "    \"RCDS\"\n",
    "]\n",
    "\n",
    "PROGRAMS = {}\n",
    "\n",
    "for party in PARTIES:\n",
    "    with open(f\"{party}.txt\", \"r\", encoding=\"utf-8\") as f:\n",
    "        file_content = f.read()\n",
    "        PROGRAMS[party] = file_content\n",
    "\n",
    "df = pd.DataFrame(PROGRAMS.items(), columns=[\"party\", \"program\"])\n",
    "\n",
    "# MARPOR data for reference texts\n",
    "BUND_PARTIES = [\"CDU\", \"FDP\", \"Grüne\", \"SPD\", \"AfD\", \"Linke\"]\n",
    "for party_name in BUND_PARTIES:\n",
    "    new_df = pd.read_csv(f\"{party_name}2021.csv\")\n",
    "    text = \" \".join(new_df.text)\n",
    "    new_row = [party_name, text]\n",
    "    df.loc[len(df)] = new_row\n",
    "\n",
    "\n",
    "\n",
    "df"
   ]
  },
  {
   "attachments": {},
   "cell_type": "markdown",
   "metadata": {},
   "source": [
    "## Data Cleaning\n",
    "Im nächsten Schritt werden die Wahlprogramme gereinigt. Das Bedeutet, dass einige, für die Analyse unwichtige oder störende, Elemente gelöscht werden.\n",
    "- Stopwords entfernen\n",
    "- Lemmatisieren\n",
    "- Kleinschreibung und entfernen von Tokens unter 3 Zeichen länge."
   ]
  },
  {
   "cell_type": "code",
   "execution_count": 3,
   "metadata": {},
   "outputs": [
    {
     "name": "stdout",
     "output_type": "stream",
     "text": [
      "Current: 1/14...\n",
      "Current: 2/14...\n",
      "Current: 3/14...\n",
      "Current: 4/14...\n",
      "Current: 5/14...\n",
      "Current: 6/14...\n",
      "Current: 7/14...\n",
      "Current: 8/14...\n",
      "Current: 9/14...\n",
      "Current: 10/14...\n",
      "Current: 11/14...\n",
      "Current: 12/14...\n",
      "Current: 13/14...\n",
      "Current: 14/14...\n"
     ]
    },
    {
     "data": {
      "text/plain": [
       "0                [email, senen, waiting, for, response]\n",
       "1     [hochschulpolitik, mehr, weniger, hochschulpol...\n",
       "2     [liebe, studi, weit, hochschulwahle, stehen, 1...\n",
       "3     [lieb, wähler*innen, sehen, wahlprogramm, hoch...\n",
       "4     [asta-beitrag, senken, allgemein, studiengebüh...\n",
       "5     [volt, liste, verstehen, linkes, progressiv, q...\n",
       "6     [mehr, interdisziplinär, zusammenarbeit, viele...\n",
       "7     [auslandsstudium, wer, semester, ausland, verb...\n",
       "8     [programm, stabilität, erneuerung, gemeinsam, ...\n",
       "9     [nie, geben, mehr, tun, wahlprogramm, frei, de...\n",
       "10    [deutschland, drin, bundestagswahlprogramm, 20...\n",
       "11    [respekt, zukunft, zukunftsprogramm, spd, wofü...\n",
       "12    [deutschland, normal, programm, alternative, f...\n",
       "13    [zeit, handeln, sozial, sicherheit, frieden, k...\n",
       "Name: program, dtype: object"
      ]
     },
     "execution_count": 3,
     "metadata": {},
     "output_type": "execute_result"
    }
   ],
   "source": [
    "\n",
    "# stopwords definieren\n",
    "custom_stopwords = [\"test\"]\n",
    "stopwords_used = stopwords.words(\"german\") + custom_stopwords\n",
    "\n",
    "# lemmatization setup\n",
    "nlp = spacy.load('de_core_news_sm')\n",
    "\n",
    "\n",
    "for i, prog in df.program.items():\n",
    "    print(f\"Current: {i+1}/{len(df.program)}...\")\n",
    "    # lemma\n",
    "    nlp_doc = nlp(prog)\n",
    "    lemma_list = [x.lemma_ for x in nlp_doc]\n",
    "\n",
    "    # remove stopwords and lower\n",
    "    no_stopwords = [word.lower() for word in lemma_list if word.lower() not in stopwords_used]\n",
    "\n",
    "    # remove short tokens\n",
    "    min_len = 3\n",
    "    new_list = [word for word in no_stopwords if len(word) >= min_len]\n",
    "\n",
    "\n",
    "    # save to df\n",
    "    df.program[i] = new_list\n",
    "\n",
    "\n",
    "df.program"
   ]
  },
  {
   "attachments": {},
   "cell_type": "markdown",
   "metadata": {},
   "source": [
    "## Wordscores berechnen\n",
    "Basierend auf [Arbeit von Thiago Marzagao](https://thiagomarzagao.com/2013/06/10/wordscores-in-python/) und angepasst für python 3"
   ]
  },
  {
   "cell_type": "code",
   "execution_count": 21,
   "metadata": {},
   "outputs": [],
   "source": [
    "def create_word_frequency_matrix(index: int) -> pd.DataFrame:\n",
    "    absolute_freq = pd.Series(df.program[index]).value_counts()\n",
    "    relative_freq = pd.Series(df.program[index]).value_counts(normalize=True)\n",
    "    word_freq_df = pd.DataFrame({\n",
    "        \"abs_freq\": absolute_freq,\n",
    "        \"rel_freq\": relative_freq\n",
    "    })\n",
    "\n",
    "    return(word_freq_df)\n",
    "\n",
    "for i in range(len(df)):\n",
    "    create_word_frequency_matrix(i).to_csv(f\"inputdata/{df.party[i]}.csv\", header=False)\n",
    "\n"
   ]
  },
  {
   "attachments": {},
   "cell_type": "markdown",
   "metadata": {},
   "source": [
    "## Referenzwerte für RILE Scores\n",
    "Als Referenzwerte für die RILE scores werden die von [Franzman und Kaiser (2016)](https://journals.sagepub.com/doi/10.1177/1354068806061336) entwickelten und auf Manifesto Project (MARPOR) beruhenden Zahlen hinzugezogen. Dabei gibt es sowohl eine ökonomische als auch eine soziale Dimension, auf welcher Parteipositionen eingeordnet werden können."
   ]
  },
  {
   "cell_type": "code",
   "execution_count": 22,
   "metadata": {},
   "outputs": [
    {
     "name": "stderr",
     "output_type": "stream",
     "text": [
      "c:\\Users\\User\\Desktop\\Uni\\WiSe 22-23\\Empirische Demokratieforschung\\Seminar_Methoden_der_Analyse_politischer_Texte_und_ihre_Anwendung\\python_code\\hausarbeit\\wordscores3.py:56: FutureWarning: Dropping of nuisance columns in DataFrame reductions (with 'numeric_only=None') is deprecated; in a future version this will raise TypeError.  Select only valid columns before calling the reduction.\n",
      "  self.P_wr = self.F_wr.iloc[:, 1:].div(self.F_wr.sum(axis = 1), axis = 0)\n"
     ]
    },
    {
     "name": "stdout",
     "output_type": "stream",
     "text": [
      "results_econ=               score\n",
      "GDF         1.509650\n",
      "GHG         2.090320\n",
      "JUSO        4.044552\n",
      "LHG         3.147488\n",
      "LISTE_VOLT  4.555025\n",
      "NORDCAMPUS  3.449712\n",
      "RCDS        5.090974\n"
     ]
    },
    {
     "name": "stderr",
     "output_type": "stream",
     "text": [
      "c:\\Users\\User\\Desktop\\Uni\\WiSe 22-23\\Empirische Demokratieforschung\\Seminar_Methoden_der_Analyse_politischer_Texte_und_ihre_Anwendung\\python_code\\hausarbeit\\wordscores3.py:56: FutureWarning: Dropping of nuisance columns in DataFrame reductions (with 'numeric_only=None') is deprecated; in a future version this will raise TypeError.  Select only valid columns before calling the reduction.\n",
      "  self.P_wr = self.F_wr.iloc[:, 1:].div(self.F_wr.sum(axis = 1), axis = 0)\n"
     ]
    },
    {
     "name": "stdout",
     "output_type": "stream",
     "text": [
      "results_social=               score\n",
      "GDF         2.760032\n",
      "GHG         2.925285\n",
      "JUSO        4.110934\n",
      "LHG         3.090792\n",
      "LISTE_VOLT  4.323755\n",
      "NORDCAMPUS  3.711444\n",
      "RCDS        4.065189\n"
     ]
    }
   ],
   "source": [
    "# Franzmann / Kaiser \n",
    "#TODO check Party codes\n",
    "\n",
    "RILE_SCORES = {\n",
    "    \"GRÜNE\": (41113, 2.22, 2.95), # (party code, LR_economic, LR_social) \n",
    "    \"LINKE\": (41223, 0.7, 2.67),\n",
    "    \"SPD\": (41320, 1.5, 4.53),\n",
    "    \"FDP\": (41420, 5.99, 3.52),\n",
    "    \"CDU\": (41521, 5.8, 6.37),\n",
    "    \"AFD\": (41953, 9.06, 8.15)\n",
    "}\n",
    "\n",
    "A_r_econ = pd.DataFrame({'LINKE': RILE_SCORES[\"LINKE\"][1],\n",
    "                   'AFD': RILE_SCORES[\"AFD\"][1],\n",
    "                   \"Linke\": RILE_SCORES[\"LINKE\"][1],\n",
    "                   \"SPD\": RILE_SCORES[\"SPD\"][1],\n",
    "                   \"FDP\": RILE_SCORES[\"FDP\"][1],\n",
    "                   \"CDU\": RILE_SCORES[\"CDU\"][1],\n",
    "                   \"Grüne\": RILE_SCORES[\"GRÜNE\"][1]},\n",
    "                   index = ['score'])\n",
    "\n",
    "W = Wordscores(A_r=A_r_econ)\n",
    "\n",
    "results_econ = W.run()[1:]\n",
    "print(f\"{results_econ=}\")\n",
    "\n",
    "A_r_econ = pd.DataFrame({'LINKE': RILE_SCORES[\"LINKE\"][2],\n",
    "                   'AFD': RILE_SCORES[\"AFD\"][2],\n",
    "                   \"Linke\": RILE_SCORES[\"LINKE\"][2],\n",
    "                   \"SPD\": RILE_SCORES[\"SPD\"][2],\n",
    "                   \"FDP\": RILE_SCORES[\"FDP\"][2],\n",
    "                   \"CDU\": RILE_SCORES[\"CDU\"][2],\n",
    "                   \"Grüne\": RILE_SCORES[\"GRÜNE\"][2]},\n",
    "                   index = ['score'])\n",
    "\n",
    "W = Wordscores(A_r=A_r_econ)\n",
    "\n",
    "results_social = W.run()[1:]\n",
    "print(f\"{results_social=}\")"
   ]
  },
  {
   "cell_type": "code",
   "execution_count": 25,
   "metadata": {},
   "outputs": [
    {
     "name": "stderr",
     "output_type": "stream",
     "text": [
      "c:\\Users\\User\\Desktop\\Uni\\WiSe 22-23\\Empirische Demokratieforschung\\Seminar_Methoden_der_Analyse_politischer_Texte_und_ihre_Anwendung\\python_code\\hausarbeit\\wordscores3.py:56: FutureWarning: Dropping of nuisance columns in DataFrame reductions (with 'numeric_only=None') is deprecated; in a future version this will raise TypeError.  Select only valid columns before calling the reduction.\n",
      "  self.P_wr = self.F_wr.iloc[:, 1:].div(self.F_wr.sum(axis = 1), axis = 0)\n"
     ]
    },
    {
     "name": "stdout",
     "output_type": "stream",
     "text": [
      "results_econ=               score\n",
      "GDF         2.013947\n",
      "GHG         2.091884\n",
      "JUSO        2.388508\n",
      "LHG         2.078713\n",
      "LISTE_VOLT  2.418154\n",
      "NORDCAMPUS  2.314171\n",
      "RCDS        2.302133\n"
     ]
    },
    {
     "name": "stderr",
     "output_type": "stream",
     "text": [
      "c:\\Users\\User\\Desktop\\Uni\\WiSe 22-23\\Empirische Demokratieforschung\\Seminar_Methoden_der_Analyse_politischer_Texte_und_ihre_Anwendung\\python_code\\hausarbeit\\wordscores3.py:56: FutureWarning: Dropping of nuisance columns in DataFrame reductions (with 'numeric_only=None') is deprecated; in a future version this will raise TypeError.  Select only valid columns before calling the reduction.\n",
      "  self.P_wr = self.F_wr.iloc[:, 1:].div(self.F_wr.sum(axis = 1), axis = 0)\n"
     ]
    },
    {
     "name": "stdout",
     "output_type": "stream",
     "text": [
      "results_social=               score\n",
      "GDF         3.488217\n",
      "GHG         3.645367\n",
      "JUSO        4.134346\n",
      "LHG         3.260499\n",
      "LISTE_VOLT  4.279673\n",
      "NORDCAMPUS  3.976842\n",
      "RCDS        3.799758\n"
     ]
    }
   ],
   "source": [
    "# Education Expansion (per506) / Environment Protection (per501) \n",
    "\n",
    "RILE_SCORES = {\n",
    "    \"GRÜNE\": (41113, 2.987, 7.975),\n",
    "    \"LINKE\": (41223, 3.047, 4.714),\n",
    "    \"SPD\": (41320, 3.21, 3.448),\n",
    "    \"FDP\": (41420, 4.253, 4.298),\n",
    "    \"CDU\": (41521, 1.802, 4.252),\n",
    "    \"AFD\": (41953, 1.842, 2.478)\n",
    "}\n",
    "\n",
    "A_r_econ = pd.DataFrame({'LINKE': RILE_SCORES[\"LINKE\"][1],\n",
    "                   'AFD': RILE_SCORES[\"AFD\"][1],\n",
    "                   \"Linke\": RILE_SCORES[\"LINKE\"][1],\n",
    "                   \"SPD\": RILE_SCORES[\"SPD\"][1],\n",
    "                   \"FDP\": RILE_SCORES[\"FDP\"][1],\n",
    "                   \"CDU\": RILE_SCORES[\"CDU\"][1],\n",
    "                   \"Grüne\": RILE_SCORES[\"GRÜNE\"][1]},\n",
    "                   index = ['score'])\n",
    "\n",
    "W = Wordscores(A_r=A_r_econ)\n",
    "\n",
    "results_econ = W.run()[1:]\n",
    "print(f\"{results_econ=}\")\n",
    "\n",
    "A_r_econ = pd.DataFrame({'LINKE': RILE_SCORES[\"LINKE\"][2],\n",
    "                   'AFD': RILE_SCORES[\"AFD\"][2],\n",
    "                   \"Linke\": RILE_SCORES[\"LINKE\"][2],\n",
    "                   \"SPD\": RILE_SCORES[\"SPD\"][2],\n",
    "                   \"FDP\": RILE_SCORES[\"FDP\"][2],\n",
    "                   \"CDU\": RILE_SCORES[\"CDU\"][2],\n",
    "                   \"Grüne\": RILE_SCORES[\"GRÜNE\"][2]},\n",
    "                   index = ['score'])\n",
    "\n",
    "W = Wordscores(A_r=A_r_econ)\n",
    "\n",
    "results_social = W.run()[1:]\n",
    "print(f\"{results_social=}\")"
   ]
  },
  {
   "cell_type": "code",
   "execution_count": 26,
   "metadata": {},
   "outputs": [
    {
     "data": {
      "image/png": "[encoded data removed]",
      "text/plain": [
       "<Figure size 1296x288 with 1 Axes>"
      ]
     },
     "metadata": {},
     "output_type": "display_data"
    }
   ],
   "source": [
    "fig, ax = plt.subplots()\n",
    "fig.set_size_inches(18, 4)\n",
    "\n",
    "x = results_econ.score\n",
    "y = results_social.score\n",
    "ax.scatter(x, y)\n",
    "txt = results_econ.index\n",
    "for i, txt in enumerate(txt):\n",
    "    ax.annotate(txt, (x[i], y[i]), rotation=45)\n",
    "\n",
    "# ax.axis(\"off\")\n",
    "plt.show()"
   ]
  },
  {
   "cell_type": "code",
   "execution_count": 28,
   "metadata": {},
   "outputs": [
    {
     "data": {
      "image/png": "[encoded data removed]",
      "text/plain": [
       "<Figure size 2160x720 with 1 Axes>"
      ]
     },
     "metadata": {},
     "output_type": "display_data"
    }
   ],
   "source": [
    "fig, ax = plt.subplots()\n",
    "fig.set_size_inches(30, 10)\n",
    "\n",
    "x = results_econ.score\n",
    "y = results_social.score\n",
    "ax.scatter(x, y, color=\"red\", s=50)\n",
    "txt = results_econ.index\n",
    "for i, txt in enumerate(txt):\n",
    "    ax.annotate(txt, (x[i], y[i]), rotation=0)\n",
    "\n",
    "# add bundestag parties\n",
    "p_names = RILE_SCORES.keys()\n",
    "x_bund = [RILE_SCORES[p_name][1] for p_name in p_names]\n",
    "y_bund = [RILE_SCORES[p_name][2] for p_name in p_names]\n",
    "ax.scatter(x_bund, y_bund, color=\"blue\", s=50)\n",
    "\n",
    "\n",
    "for i, p_name in enumerate(p_names):\n",
    "    ax.annotate(p_name, (x_bund[i], y_bund[i]), rotation=0)\n",
    "\n",
    "label_font = {\"size\": 20}\n",
    "\n",
    "plt.title(\"Franzmann-Kaiser Werte für Parteipositionen (Bundestagswahl 2021 / Hochschulwahlen Göttingen 2023)\", fontdict={\"size\": 25})\n",
    "plt.xlabel(\"Ökonomische Dimension\", fontdict=label_font)\n",
    "plt.ylabel(\"Soziale Dimension\", fontdict=label_font)\n",
    "# ax.axis(\"off\")\n",
    "\n",
    "plt.style.use(\"ggplot\")\n",
    "plt.show()"
   ]
  },
  {
   "attachments": {},
   "cell_type": "markdown",
   "metadata": {},
   "source": [
    "## Wahlprogramme der Bundestagsparteien reduzieren\n",
    "Die Parteien der Hochschulwahlen fokussieren sich Hauptsächlich auf den universitären Kontext. Daher ist es vielleicht sinnvoll die Wahlprogramme auf die Teile zu reduzieren, in welchen über Bildung gesprochen wird. \n",
    "\n",
    "Das wird dadurch erreicht, dass nur die Teile der Wahlprogramme als Referenztexte in die Analyse aufgenommen werden, welche in der MARPOR kodierung zu \"Domain 5: Welfare and Quality of Life\" (per501-per507) gehören. \n",
    "\n",
    "Zudem wird die Kategorie \"Technology and Infrastructure: Positive\" (411) aufgenomemn, da mit dieser viele Aufrufe zur modernisierung und digitalisierung der Lehre kodiert sind."
   ]
  },
  {
   "cell_type": "code",
   "execution_count": 20,
   "metadata": {},
   "outputs": [
    {
     "name": "stdout",
     "output_type": "stream",
     "text": [
      "Current: 1/14...\n",
      "Current: 2/14...\n",
      "Current: 3/14...\n",
      "Current: 4/14...\n",
      "Current: 5/14...\n",
      "Current: 6/14...\n",
      "Current: 7/14...\n",
      "Current: 8/14...\n",
      "Current: 9/14...\n",
      "Current: 10/14...\n",
      "Current: 11/14...\n",
      "Current: 12/14...\n",
      "Current: 13/14...\n",
      "Current: 14/14...\n"
     ]
    },
    {
     "data": {
      "text/plain": [
       "0                [email, senen, waiting, for, response]\n",
       "1     [hochschulpolitik, mehr, weniger, hochschulpol...\n",
       "2     [liebe, studi, weit, hochschulwahle, stehen, 1...\n",
       "3     [lieb, wähler*innen, sehen, wahlprogramm, hoch...\n",
       "4     [asta-beitrag, senken, allgemein, studiengebüh...\n",
       "5     [volt, liste, verstehen, linkes, progressiv, q...\n",
       "6     [mehr, interdisziplinär, zusammenarbeit, viele...\n",
       "7     [auslandsstudium, wer, semester, ausland, verb...\n",
       "8     [20er, jahr, modernisierungsjahrzehnt, land, d...\n",
       "9     [staat, gesundheitssystem, digitalisieren, ges...\n",
       "10    [global, krise, zeit, zuallererst, klimakrise,...\n",
       "11    [überwinden, wachsend, ungleichheit, nehmen, w...\n",
       "12    [prinzip, gleichheit, gesetz, artikel, grundge...\n",
       "13    [coronakrise, ungerechtigkeit, kapitalismus, d...\n",
       "Name: program, dtype: object"
      ]
     },
     "execution_count": 20,
     "metadata": {},
     "output_type": "execute_result"
    }
   ],
   "source": [
    "# Wahlprogramme reduzieren\n",
    "\n",
    "included_categories = [\"501\", \"502\", \"503\", \"504\", \"505\",\"506\", \"507\", \"411\"]\n",
    "# included_categories = [501.0, 502.0, 503.0, 504.0, 505.0, 506.0, 507.0, 411.0]\n",
    "\n",
    "\n",
    "PARTIES = [\n",
    "    \"ALL_BB\",\n",
    "    \"GDF\",\n",
    "    \"GHG\",\n",
    "    \"JUSO\",\n",
    "    \"LHG\",\n",
    "    \"LISTE_VOLT\",\n",
    "    \"NORDCAMPUS\",\n",
    "    \"RCDS\"\n",
    "]\n",
    "\n",
    "PROGRAMS = {}\n",
    "\n",
    "for party in PARTIES:\n",
    "    with open(f\"{party}.txt\", \"r\", encoding=\"utf-8\") as f:\n",
    "        file_content = f.read()\n",
    "        PROGRAMS[party] = file_content\n",
    "\n",
    "df = pd.DataFrame(PROGRAMS.items(), columns=[\"party\", \"program\"])\n",
    "\n",
    "# MARPOR data for reference texts\n",
    "BUND_PARTIES = [\"CDU\", \"FDP\", \"Grüne\", \"SPD\", \"AfD\", \"Linke\"]\n",
    "for party_name in BUND_PARTIES:\n",
    "    new_df = pd.read_csv(f\"{party_name}2021.csv\")\n",
    "    reduced_df = new_df[new_df[\"cmp_code\"].isin(included_categories)]     # df gets limited\n",
    "    text = \" \".join(reduced_df.text)\n",
    "    new_row = [party_name, text]\n",
    "    df.loc[len(df)] = new_row\n",
    "\n",
    "\n",
    "\n",
    "# stopwords definieren\n",
    "custom_stopwords = [\"test\"]\n",
    "stopwords_used = stopwords.words(\"german\") + custom_stopwords\n",
    "\n",
    "# lemmatization setup\n",
    "nlp = spacy.load('de_core_news_sm')\n",
    "\n",
    "\n",
    "for i, prog in df.program.items():\n",
    "    print(f\"Current: {i+1}/{len(df.program)}...\")\n",
    "    # lemma\n",
    "    nlp_doc = nlp(prog)\n",
    "    lemma_list = [x.lemma_ for x in nlp_doc]\n",
    "\n",
    "    # remove stopwords and lower\n",
    "    no_stopwords = [word.lower() for word in lemma_list if word.lower() not in stopwords_used]\n",
    "\n",
    "    # remove short tokens\n",
    "    min_len = 3\n",
    "    new_list = [word for word in no_stopwords if len(word) >= min_len]\n",
    "\n",
    "\n",
    "    # save to df\n",
    "    df.program[i] = new_list\n",
    "\n",
    "\n",
    "df.program"
   ]
  },
  {
   "attachments": {},
   "cell_type": "markdown",
   "metadata": {},
   "source": [
    "## Weitere Ideen:\n",
    "- Textskalierungsverfahren für explorativere analyse\n",
    "- Wordfish für latente Dimension, die mehr zu tatsächlichen Positionen der Uni-Parteien aussagt?"
   ]
  },
  {
   "attachments": {},
   "cell_type": "markdown",
   "metadata": {},
   "source": [
    "# Word2vec\n",
    "Word2vec ist eine weitere Methode, um einen Textcorpus als Vektor darzustellen. Dazu werden die libraries Natural Language Toolkit (``nltk``) und ``gensim`` verwendet."
   ]
  }
 ],
 "metadata": {
  "kernelspec": {
   "display_name": "Pygame",
   "language": "python",
   "name": "python3"
  },
  "language_info": {
   "codemirror_mode": {
    "name": "ipython",
    "version": 3
   },
   "file_extension": ".py",
   "mimetype": "text/x-python",
   "name": "python",
   "nbconvert_exporter": "python",
   "pygments_lexer": "ipython3",
   "version": "3.9.0"
  },
  "orig_nbformat": 4,
  "vscode": {
   "interpreter": {
    "hash": "68f718978781f2d56aeb50d49bc7bf5e93e7cb5af42a5cb959d972a377b115b9"
   }
  }
 },
 "nbformat": 4,
 "nbformat_minor": 2
}
