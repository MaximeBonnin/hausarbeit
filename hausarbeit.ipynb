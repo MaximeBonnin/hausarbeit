{
 "cells": [
  {
   "attachments": {},
   "cell_type": "markdown",
   "metadata": {},
   "source": [
    "# Hausarbeit im Seminar Textanalyse WiSe 22/23\n",
    "## Research Question\n",
    "\n",
    "Wo sind die Parteien der UNi Wahlen in Göttingen im Vergleich zu Bundestagsparteien auf einer Links-Rechts Skala einzuordnen?\n",
    "\n",
    "## Vorbereitung\n",
    "Zunächst werden die Parteien definieiert und die Wahlprogramme (soweit vorhanden) eingelsen."
   ]
  },
  {
   "cell_type": "code",
   "execution_count": 23,
   "metadata": {},
   "outputs": [],
   "source": [
    "# import modules\n",
    "import pandas as pd\n",
    "from nltk.corpus import stopwords\n",
    "import spacy\n",
    "from wordscores3 import Wordscores\n",
    "import matplotlib.pyplot as plt"
   ]
  },
  {
   "cell_type": "code",
   "execution_count": 30,
   "metadata": {},
   "outputs": [
    {
     "data": {
      "text/html": [
       "<div>\n",
       "<style scoped>\n",
       "    .dataframe tbody tr th:only-of-type {\n",
       "        vertical-align: middle;\n",
       "    }\n",
       "\n",
       "    .dataframe tbody tr th {\n",
       "        vertical-align: top;\n",
       "    }\n",
       "\n",
       "    .dataframe thead th {\n",
       "        text-align: right;\n",
       "    }\n",
       "</style>\n",
       "<table border=\"1\" class=\"dataframe\">\n",
       "  <thead>\n",
       "    <tr style=\"text-align: right;\">\n",
       "      <th></th>\n",
       "      <th>party</th>\n",
       "      <th>program</th>\n",
       "    </tr>\n",
       "  </thead>\n",
       "  <tbody>\n",
       "    <tr>\n",
       "      <th>0</th>\n",
       "      <td>ALL_BB</td>\n",
       "      <td>test test test Email sent, waiting for response</td>\n",
       "    </tr>\n",
       "    <tr>\n",
       "      <th>1</th>\n",
       "      <td>GDF</td>\n",
       "      <td>Hochschulpolitik - Nicht mehr und nicht wenige...</td>\n",
       "    </tr>\n",
       "    <tr>\n",
       "      <th>2</th>\n",
       "      <td>GHG</td>\n",
       "      <td>Liebe Studis, \\nEs ist wieder so weit, die Hoc...</td>\n",
       "    </tr>\n",
       "    <tr>\n",
       "      <th>3</th>\n",
       "      <td>JUSO</td>\n",
       "      <td>Liebe Wähler*innen,\\nvor euch seht ihr unser W...</td>\n",
       "    </tr>\n",
       "    <tr>\n",
       "      <th>4</th>\n",
       "      <td>LHG</td>\n",
       "      <td>AStA-Beiträge senken\\nAllgemeine Studiengebühr...</td>\n",
       "    </tr>\n",
       "    <tr>\n",
       "      <th>5</th>\n",
       "      <td>LISTE_VOLT</td>\n",
       "      <td>Volt &amp; Die LISTE verstehen sich als linkes, pr...</td>\n",
       "    </tr>\n",
       "    <tr>\n",
       "      <th>6</th>\n",
       "      <td>NORDCAMPUS</td>\n",
       "      <td>Mehr interdisziplinäre Zusammenarbeit\\nViele S...</td>\n",
       "    </tr>\n",
       "    <tr>\n",
       "      <th>7</th>\n",
       "      <td>RCDS</td>\n",
       "      <td>Auslandsstudium\\nWer ein Semester im Ausland v...</td>\n",
       "    </tr>\n",
       "    <tr>\n",
       "      <th>8</th>\n",
       "      <td>CDU</td>\n",
       "      <td>Das Programm für Stabilität und Erneuerung. GE...</td>\n",
       "    </tr>\n",
       "    <tr>\n",
       "      <th>9</th>\n",
       "      <td>FDP</td>\n",
       "      <td>Nie gab es mehr zu tun Wahlprogramm der Freien...</td>\n",
       "    </tr>\n",
       "    <tr>\n",
       "      <th>10</th>\n",
       "      <td>Grüne</td>\n",
       "      <td>Deutschland. Alles ist drin. Bundestagswahlpro...</td>\n",
       "    </tr>\n",
       "    <tr>\n",
       "      <th>11</th>\n",
       "      <td>SPD</td>\n",
       "      <td>Aus Respekt vor deiner Zukunft Das Zukunftspro...</td>\n",
       "    </tr>\n",
       "    <tr>\n",
       "      <th>12</th>\n",
       "      <td>AfD</td>\n",
       "      <td>Deutschland. Aber normal. Programm der Alterna...</td>\n",
       "    </tr>\n",
       "    <tr>\n",
       "      <th>13</th>\n",
       "      <td>Linke</td>\n",
       "      <td>Zeit zu handeln! Für soziale Sicherheit, Fried...</td>\n",
       "    </tr>\n",
       "  </tbody>\n",
       "</table>\n",
       "</div>"
      ],
      "text/plain": [
       "         party                                            program\n",
       "0       ALL_BB    test test test Email sent, waiting for response\n",
       "1          GDF  Hochschulpolitik - Nicht mehr und nicht wenige...\n",
       "2          GHG  Liebe Studis, \\nEs ist wieder so weit, die Hoc...\n",
       "3         JUSO  Liebe Wähler*innen,\\nvor euch seht ihr unser W...\n",
       "4          LHG  AStA-Beiträge senken\\nAllgemeine Studiengebühr...\n",
       "5   LISTE_VOLT  Volt & Die LISTE verstehen sich als linkes, pr...\n",
       "6   NORDCAMPUS  Mehr interdisziplinäre Zusammenarbeit\\nViele S...\n",
       "7         RCDS  Auslandsstudium\\nWer ein Semester im Ausland v...\n",
       "8          CDU  Das Programm für Stabilität und Erneuerung. GE...\n",
       "9          FDP  Nie gab es mehr zu tun Wahlprogramm der Freien...\n",
       "10       Grüne  Deutschland. Alles ist drin. Bundestagswahlpro...\n",
       "11         SPD  Aus Respekt vor deiner Zukunft Das Zukunftspro...\n",
       "12         AfD  Deutschland. Aber normal. Programm der Alterna...\n",
       "13       Linke  Zeit zu handeln! Für soziale Sicherheit, Fried..."
      ]
     },
     "execution_count": 30,
     "metadata": {},
     "output_type": "execute_result"
    }
   ],
   "source": [
    "PARTIES = [\n",
    "    \"ALL_BB\",\n",
    "    \"GDF\",\n",
    "    \"GHG\",\n",
    "    \"JUSO\",\n",
    "    \"LHG\",\n",
    "    \"LISTE_VOLT\",\n",
    "    \"NORDCAMPUS\",\n",
    "    \"RCDS\"\n",
    "]\n",
    "\n",
    "PROGRAMS = {}\n",
    "\n",
    "for party in PARTIES:\n",
    "    with open(f\"{party}.txt\", \"r\", encoding=\"utf-8\") as f:\n",
    "        file_content = f.read()\n",
    "        PROGRAMS[party] = file_content\n",
    "\n",
    "df = pd.DataFrame(PROGRAMS.items(), columns=[\"party\", \"program\"])\n",
    "\n",
    "# MARPOR data for reference texts\n",
    "BUND_PARTIES = [\"CDU\", \"FDP\", \"Grüne\", \"SPD\", \"AfD\", \"Linke\"]\n",
    "for party_name in BUND_PARTIES:\n",
    "    new_df = pd.read_csv(f\"{party_name}2021.csv\")\n",
    "    text = \" \".join(new_df.text)\n",
    "    new_row = [party_name, text]\n",
    "    df.loc[len(df)] = new_row\n",
    "\n",
    "\n",
    "\n",
    "df"
   ]
  },
  {
   "attachments": {},
   "cell_type": "markdown",
   "metadata": {},
   "source": [
    "## Data Cleaning\n",
    "Im nächsten Schritt werden die Wahlprogramme gereinigt. Das Bedeutet, dass einige, für die Analyse unwichtige oder störende, Elemente gelöscht werden. Darunter zählen:\n",
    "- Zeilenumbrüche\n",
    "- großbuchstaben (werden klein geschrieben)\n",
    "- anderes"
   ]
  },
  {
   "cell_type": "code",
   "execution_count": 31,
   "metadata": {},
   "outputs": [
    {
     "name": "stdout",
     "output_type": "stream",
     "text": [
      "Current: 1/14...\n",
      "Current: 2/14...\n",
      "Current: 3/14...\n",
      "Current: 4/14...\n",
      "Current: 5/14...\n",
      "Current: 6/14...\n",
      "Current: 7/14...\n",
      "Current: 8/14...\n",
      "Current: 9/14...\n",
      "Current: 10/14...\n",
      "Current: 11/14...\n",
      "Current: 12/14...\n",
      "Current: 13/14...\n",
      "Current: 14/14...\n"
     ]
    },
    {
     "data": {
      "text/plain": [
       "0                [email, senen, waiting, for, response]\n",
       "1     [hochschulpolitik, mehr, weniger, hochschulpol...\n",
       "2     [liebe, studi, weit, hochschulwahle, stehen, 1...\n",
       "3     [lieb, wähler*innen, sehen, wahlprogramm, hoch...\n",
       "4     [asta-beitrag, senken, allgemein, studiengebüh...\n",
       "5     [volt, liste, verstehen, linkes, progressiv, q...\n",
       "6     [mehr, interdisziplinär, zusammenarbeit, viele...\n",
       "7     [auslandsstudium, wer, semester, ausland, verb...\n",
       "8     [programm, stabilität, erneuerung, gemeinsam, ...\n",
       "9     [nie, geben, mehr, tun, wahlprogramm, frei, de...\n",
       "10    [deutschland, drin, bundestagswahlprogramm, 20...\n",
       "11    [respekt, zukunft, zukunftsprogramm, spd, wofü...\n",
       "12    [deutschland, normal, programm, alternative, f...\n",
       "13    [zeit, handeln, sozial, sicherheit, frieden, k...\n",
       "Name: program, dtype: object"
      ]
     },
     "execution_count": 31,
     "metadata": {},
     "output_type": "execute_result"
    }
   ],
   "source": [
    "# stopwords definieren\n",
    "custom_stopwords = [\"test\"]\n",
    "stopwords_used = stopwords.words(\"german\") + custom_stopwords\n",
    "\n",
    "# lemmatization setup\n",
    "nlp = spacy.load('de_core_news_sm')\n",
    "\n",
    "\n",
    "for i, prog in df.program.items():\n",
    "    print(f\"Current: {i+1}/{len(df.program)}...\")\n",
    "    # lemma\n",
    "    nlp_doc = nlp(prog)\n",
    "    lemma_list = [x.lemma_ for x in nlp_doc]\n",
    "\n",
    "    # remove stopwords and lower\n",
    "    no_stopwords = [word.lower() for word in lemma_list if word.lower() not in stopwords_used]\n",
    "\n",
    "    # remove short tokens\n",
    "    min_len = 3\n",
    "    new_list = [word for word in no_stopwords if len(word) >= min_len]\n",
    "\n",
    "\n",
    "    # save to df\n",
    "    df.program[i] = new_list\n",
    "\n",
    "\n",
    "df.program"
   ]
  },
  {
   "attachments": {},
   "cell_type": "markdown",
   "metadata": {},
   "source": [
    "## Wordscores berechnen"
   ]
  },
  {
   "cell_type": "code",
   "execution_count": 32,
   "metadata": {},
   "outputs": [],
   "source": [
    "def create_word_frequency_matrix(index: int) -> pd.DataFrame:\n",
    "    absolute_freq = pd.Series(df.program[index]).value_counts()\n",
    "    relative_freq = pd.Series(df.program[index]).value_counts(normalize=True)\n",
    "    word_freq_df = pd.DataFrame({\n",
    "        \"abs_freq\": absolute_freq,\n",
    "        \"rel_freq\": relative_freq\n",
    "    })\n",
    "\n",
    "    return(word_freq_df)\n",
    "\n",
    "for i in range(len(df)):\n",
    "    create_word_frequency_matrix(i).to_csv(f\"inputdata/{df.party[i]}.csv\", header=False)\n",
    "\n"
   ]
  },
  {
   "cell_type": "code",
   "execution_count": 37,
   "metadata": {},
   "outputs": [
    {
     "name": "stderr",
     "output_type": "stream",
     "text": [
      "c:\\Users\\User\\Desktop\\Uni\\WiSe 22-23\\Empirische Demokratieforschung\\Seminar_Methoden_der_Analyse_politischer_Texte_und_ihre_Anwendung\\python_code\\hausarbeit\\wordscores3.py:56: FutureWarning: Dropping of nuisance columns in DataFrame reductions (with 'numeric_only=None') is deprecated; in a future version this will raise TypeError.  Select only valid columns before calling the reduction.\n",
      "  self.P_wr = self.F_wr.iloc[:, 1:].div(self.F_wr.sum(axis = 1), axis = 0)\n"
     ]
    },
    {
     "name": "stdout",
     "output_type": "stream",
     "text": [
      "                score\n",
      "GDF        -10.750870\n",
      "GHG        -11.605535\n",
      "JUSO       -11.829653\n",
      "LHG         -8.615741\n",
      "LISTE_VOLT -11.951862\n",
      "NORDCAMPUS -11.215008\n",
      "RCDS        -8.869562\n"
     ]
    }
   ],
   "source": [
    "MARPOR_RILE_2021 = {\n",
    "    \"GRÜNE\": -21.038,\n",
    "    \"LINKE\": -36.167,\n",
    "    \"SPD\": -24.673,\n",
    "    \"FDP\": 0.266,\n",
    "    \"CDU\": 3.495,\n",
    "    \"AFD\": 26.048\n",
    "}\n",
    "\n",
    "A_r = pd.DataFrame({'LINKE': MARPOR_RILE_2021[\"LINKE\"],\n",
    "                   'AFD': MARPOR_RILE_2021[\"AFD\"],\n",
    "                   \"Linke\": MARPOR_RILE_2021[\"LINKE\"],\n",
    "                   \"SPD\": MARPOR_RILE_2021[\"SPD\"],\n",
    "                   \"FDP\": MARPOR_RILE_2021[\"FDP\"],\n",
    "                   \"CDU\": MARPOR_RILE_2021[\"CDU\"],\n",
    "                   \"Grüne\": MARPOR_RILE_2021[\"GRÜNE\"]},\n",
    "                   index = ['score'])\n",
    "\n",
    "W = Wordscores(A_r=A_r)\n",
    "\n",
    "results_rile = W.run()[1:]\n",
    "print(results_rile)\n",
    "\n",
    "#                 score\n",
    "# GDF        -10.750870\n",
    "# GHG        -11.605535\n",
    "# JUSO       -11.829653\n",
    "# LHG         -8.615741\n",
    "# LISTE_VOLT -11.951862\n",
    "# NORDCAMPUS -11.215008\n",
    "# RCDS        -8.869562"
   ]
  },
  {
   "cell_type": "code",
   "execution_count": 41,
   "metadata": {},
   "outputs": [
    {
     "name": "stderr",
     "output_type": "stream",
     "text": [
      "c:\\Users\\User\\Desktop\\Uni\\WiSe 22-23\\Empirische Demokratieforschung\\Seminar_Methoden_der_Analyse_politischer_Texte_und_ihre_Anwendung\\python_code\\hausarbeit\\wordscores3.py:56: FutureWarning: Dropping of nuisance columns in DataFrame reductions (with 'numeric_only=None') is deprecated; in a future version this will raise TypeError.  Select only valid columns before calling the reduction.\n",
      "  self.P_wr = self.F_wr.iloc[:, 1:].div(self.F_wr.sum(axis = 1), axis = 0)\n"
     ]
    },
    {
     "name": "stdout",
     "output_type": "stream",
     "text": [
      "               score\n",
      "GDF         0.412069\n",
      "GHG         0.420841\n",
      "JUSO        0.447858\n",
      "LHG         0.391540\n",
      "LISTE_VOLT  0.445551\n",
      "NORDCAMPUS  0.435666\n",
      "RCDS        0.425437\n"
     ]
    }
   ],
   "source": [
    "MARPOR_IM_POS_2021 = { # MARPOR 602.2\n",
    "    \"GRÜNE\": 0.886,\n",
    "    \"LINKE\": 0.391,\n",
    "    \"SPD\": 0.654,\n",
    "    \"FDP\": 0.62,\n",
    "    \"CDU\": 0.685,\n",
    "    \"AFD\": 0\n",
    "}\n",
    "\n",
    "A_r = pd.DataFrame({'LINKE': MARPOR_IM_POS_2021[\"LINKE\"],\n",
    "                   'AFD': MARPOR_IM_POS_2021[\"AFD\"],\n",
    "                   \"Linke\": MARPOR_IM_POS_2021[\"LINKE\"],\n",
    "                   \"SPD\": MARPOR_IM_POS_2021[\"SPD\"],\n",
    "                   \"FDP\": MARPOR_IM_POS_2021[\"FDP\"],\n",
    "                   \"CDU\": MARPOR_IM_POS_2021[\"CDU\"],\n",
    "                   \"Grüne\": MARPOR_IM_POS_2021[\"GRÜNE\"]},\n",
    "                   index = ['score'])\n",
    "\n",
    "W = Wordscores(A_r=A_r)\n",
    "\n",
    "results_im_pos = W.run()[1:]\n",
    "print(results_im_pos)\n",
    "\n",
    "#                score\n",
    "# GDF         0.412069\n",
    "# GHG         0.420841\n",
    "# JUSO        0.447858\n",
    "# LHG         0.391540\n",
    "# LISTE_VOLT  0.445551\n",
    "# NORDCAMPUS  0.435666\n",
    "# RCDS        0.425437"
   ]
  },
  {
   "cell_type": "code",
   "execution_count": 42,
   "metadata": {},
   "outputs": [
    {
     "data": {
      "image/png": "[encoded data removed]",
      "text/plain": [
       "<Figure size 1296x288 with 1 Axes>"
      ]
     },
     "metadata": {
      "needs_background": "light"
     },
     "output_type": "display_data"
    }
   ],
   "source": [
    "fig, ax = plt.subplots()\n",
    "fig.set_size_inches(18, 4)\n",
    "\n",
    "x = results_rile.score\n",
    "y = results_im_pos.score\n",
    "ax.scatter(x, y)\n",
    "txt = results_rile.index\n",
    "for i, txt in enumerate(txt):\n",
    "    ax.annotate(txt, (x[i], y[i]), rotation=45)\n",
    "\n",
    "# ax.axis(\"off\")\n",
    "plt.show()"
   ]
  },
  {
   "cell_type": "code",
   "execution_count": 44,
   "metadata": {},
   "outputs": [
    {
     "ename": "KeyError",
     "evalue": "0",
     "output_type": "error",
     "traceback": [
      "\u001b[1;31m---------------------------------------------------------------------------\u001b[0m",
      "\u001b[1;31mKeyError\u001b[0m                                  Traceback (most recent call last)",
      "File \u001b[1;32mc:\\Users\\User\\Desktop\\Programming\\Python\\Pygame\\lib\\site-packages\\pandas\\core\\indexes\\base.py:3621\u001b[0m, in \u001b[0;36mIndex.get_loc\u001b[1;34m(self, key, method, tolerance)\u001b[0m\n\u001b[0;32m   3620\u001b[0m \u001b[39mtry\u001b[39;00m:\n\u001b[1;32m-> 3621\u001b[0m     \u001b[39mreturn\u001b[39;00m \u001b[39mself\u001b[39;49m\u001b[39m.\u001b[39;49m_engine\u001b[39m.\u001b[39;49mget_loc(casted_key)\n\u001b[0;32m   3622\u001b[0m \u001b[39mexcept\u001b[39;00m \u001b[39mKeyError\u001b[39;00m \u001b[39mas\u001b[39;00m err:\n",
      "File \u001b[1;32mc:\\Users\\User\\Desktop\\Programming\\Python\\Pygame\\lib\\site-packages\\pandas\\_libs\\index.pyx:136\u001b[0m, in \u001b[0;36mpandas._libs.index.IndexEngine.get_loc\u001b[1;34m()\u001b[0m\n",
      "File \u001b[1;32mc:\\Users\\User\\Desktop\\Programming\\Python\\Pygame\\lib\\site-packages\\pandas\\_libs\\index.pyx:163\u001b[0m, in \u001b[0;36mpandas._libs.index.IndexEngine.get_loc\u001b[1;34m()\u001b[0m\n",
      "File \u001b[1;32mpandas\\_libs\\hashtable_class_helper.pxi:5198\u001b[0m, in \u001b[0;36mpandas._libs.hashtable.PyObjectHashTable.get_item\u001b[1;34m()\u001b[0m\n",
      "File \u001b[1;32mpandas\\_libs\\hashtable_class_helper.pxi:5206\u001b[0m, in \u001b[0;36mpandas._libs.hashtable.PyObjectHashTable.get_item\u001b[1;34m()\u001b[0m\n",
      "\u001b[1;31mKeyError\u001b[0m: 0",
      "\nThe above exception was the direct cause of the following exception:\n",
      "\u001b[1;31mKeyError\u001b[0m                                  Traceback (most recent call last)",
      "\u001b[1;32mc:\\Users\\User\\Desktop\\Uni\\WiSe 22-23\\Empirische Demokratieforschung\\Seminar_Methoden_der_Analyse_politischer_Texte_und_ihre_Anwendung\\python_code\\hausarbeit\\hausarbeit.ipynb Cell 11\u001b[0m in \u001b[0;36m<module>\u001b[1;34m\u001b[0m\n\u001b[0;32m      <a href='vscode-notebook-cell:/c%3A/Users/User/Desktop/Uni/WiSe%2022-23/Empirische%20Demokratieforschung/Seminar_Methoden_der_Analyse_politischer_Texte_und_ihre_Anwendung/python_code/hausarbeit/hausarbeit.ipynb#X16sZmlsZQ%3D%3D?line=6'>7</a>\u001b[0m txt \u001b[39m=\u001b[39m results_rile\u001b[39m.\u001b[39mindex\n\u001b[0;32m      <a href='vscode-notebook-cell:/c%3A/Users/User/Desktop/Uni/WiSe%2022-23/Empirische%20Demokratieforschung/Seminar_Methoden_der_Analyse_politischer_Texte_und_ihre_Anwendung/python_code/hausarbeit/hausarbeit.ipynb#X16sZmlsZQ%3D%3D?line=7'>8</a>\u001b[0m \u001b[39mfor\u001b[39;00m i, txt \u001b[39min\u001b[39;00m \u001b[39menumerate\u001b[39m(txt):\n\u001b[1;32m----> <a href='vscode-notebook-cell:/c%3A/Users/User/Desktop/Uni/WiSe%2022-23/Empirische%20Demokratieforschung/Seminar_Methoden_der_Analyse_politischer_Texte_und_ihre_Anwendung/python_code/hausarbeit/hausarbeit.ipynb#X16sZmlsZQ%3D%3D?line=8'>9</a>\u001b[0m     ax\u001b[39m.\u001b[39mannotate(txt, (x[i], y[i]), rotation\u001b[39m=\u001b[39m\u001b[39m45\u001b[39m)\n\u001b[0;32m     <a href='vscode-notebook-cell:/c%3A/Users/User/Desktop/Uni/WiSe%2022-23/Empirische%20Demokratieforschung/Seminar_Methoden_der_Analyse_politischer_Texte_und_ihre_Anwendung/python_code/hausarbeit/hausarbeit.ipynb#X16sZmlsZQ%3D%3D?line=10'>11</a>\u001b[0m \u001b[39m# add bundestag parties\u001b[39;00m\n\u001b[0;32m     <a href='vscode-notebook-cell:/c%3A/Users/User/Desktop/Uni/WiSe%2022-23/Empirische%20Demokratieforschung/Seminar_Methoden_der_Analyse_politischer_Texte_und_ihre_Anwendung/python_code/hausarbeit/hausarbeit.ipynb#X16sZmlsZQ%3D%3D?line=11'>12</a>\u001b[0m p_names \u001b[39m=\u001b[39m MARPOR_RILE_2021\u001b[39m.\u001b[39mkeys()\n",
      "File \u001b[1;32mc:\\Users\\User\\Desktop\\Programming\\Python\\Pygame\\lib\\site-packages\\pandas\\core\\frame.py:3506\u001b[0m, in \u001b[0;36mDataFrame.__getitem__\u001b[1;34m(self, key)\u001b[0m\n\u001b[0;32m   3504\u001b[0m \u001b[39mif\u001b[39;00m \u001b[39mself\u001b[39m\u001b[39m.\u001b[39mcolumns\u001b[39m.\u001b[39mnlevels \u001b[39m>\u001b[39m \u001b[39m1\u001b[39m:\n\u001b[0;32m   3505\u001b[0m     \u001b[39mreturn\u001b[39;00m \u001b[39mself\u001b[39m\u001b[39m.\u001b[39m_getitem_multilevel(key)\n\u001b[1;32m-> 3506\u001b[0m indexer \u001b[39m=\u001b[39m \u001b[39mself\u001b[39;49m\u001b[39m.\u001b[39;49mcolumns\u001b[39m.\u001b[39;49mget_loc(key)\n\u001b[0;32m   3507\u001b[0m \u001b[39mif\u001b[39;00m is_integer(indexer):\n\u001b[0;32m   3508\u001b[0m     indexer \u001b[39m=\u001b[39m [indexer]\n",
      "File \u001b[1;32mc:\\Users\\User\\Desktop\\Programming\\Python\\Pygame\\lib\\site-packages\\pandas\\core\\indexes\\base.py:3623\u001b[0m, in \u001b[0;36mIndex.get_loc\u001b[1;34m(self, key, method, tolerance)\u001b[0m\n\u001b[0;32m   3621\u001b[0m     \u001b[39mreturn\u001b[39;00m \u001b[39mself\u001b[39m\u001b[39m.\u001b[39m_engine\u001b[39m.\u001b[39mget_loc(casted_key)\n\u001b[0;32m   3622\u001b[0m \u001b[39mexcept\u001b[39;00m \u001b[39mKeyError\u001b[39;00m \u001b[39mas\u001b[39;00m err:\n\u001b[1;32m-> 3623\u001b[0m     \u001b[39mraise\u001b[39;00m \u001b[39mKeyError\u001b[39;00m(key) \u001b[39mfrom\u001b[39;00m \u001b[39merr\u001b[39;00m\n\u001b[0;32m   3624\u001b[0m \u001b[39mexcept\u001b[39;00m \u001b[39mTypeError\u001b[39;00m:\n\u001b[0;32m   3625\u001b[0m     \u001b[39m# If we have a listlike key, _check_indexing_error will raise\u001b[39;00m\n\u001b[0;32m   3626\u001b[0m     \u001b[39m#  InvalidIndexError. Otherwise we fall through and re-raise\u001b[39;00m\n\u001b[0;32m   3627\u001b[0m     \u001b[39m#  the TypeError.\u001b[39;00m\n\u001b[0;32m   3628\u001b[0m     \u001b[39mself\u001b[39m\u001b[39m.\u001b[39m_check_indexing_error(key)\n",
      "\u001b[1;31mKeyError\u001b[0m: 0"
     ]
    },
    {
     "data": {
      "image/png": "[encoded data removed]",
      "text/plain": [
       "<Figure size 1296x288 with 1 Axes>"
      ]
     },
     "metadata": {
      "needs_background": "light"
     },
     "output_type": "display_data"
    }
   ],
   "source": [
    "fig, ax = plt.subplots()\n",
    "fig.set_size_inches(18, 4)\n",
    "\n",
    "x = results_rile.score\n",
    "y = results_im_pos\n",
    "ax.scatter(x, y)\n",
    "txt = results_rile.index\n",
    "for i, txt in enumerate(txt):\n",
    "    ax.annotate(txt, (x[i], y[i]), rotation=45)\n",
    "\n",
    "# add bundestag parties\n",
    "p_names = MARPOR_RILE_2021.keys()\n",
    "x_bund = [MARPOR_RILE_2021[p_name] for p_name in p_names]\n",
    "y_bund = [MARPOR_IM_POS_2021[p_name] for p_name in p_names]\n",
    "ax.scatter(x_bund, y_bund)\n",
    "\n",
    "\n",
    "for i, p_name in enumerate(p_names):\n",
    "    ax.annotate(p_name, (x_bund[i], y_bund[i]), rotation=45)\n",
    "\n",
    "# ax.axis(\"off\")\n",
    "plt.show()"
   ]
  },
  {
   "attachments": {},
   "cell_type": "markdown",
   "metadata": {},
   "source": [
    "## Weitere Ideen:\n",
    "- Textskalierungsverfahren für explorativere analyse\n",
    "- Wordfish, wahrscheinlich wenig sinnvoll wegen lantenter dimension ohne vergleichswert für Uni-Wahlen"
   ]
  }
 ],
 "metadata": {
  "kernelspec": {
   "display_name": "Pygame",
   "language": "python",
   "name": "python3"
  },
  "language_info": {
   "codemirror_mode": {
    "name": "ipython",
    "version": 3
   },
   "file_extension": ".py",
   "mimetype": "text/x-python",
   "name": "python",
   "nbconvert_exporter": "python",
   "pygments_lexer": "ipython3",
   "version": "3.9.0"
  },
  "orig_nbformat": 4,
  "vscode": {
   "interpreter": {
    "hash": "68f718978781f2d56aeb50d49bc7bf5e93e7cb5af42a5cb959d972a377b115b9"
   }
  }
 },
 "nbformat": 4,
 "nbformat_minor": 2
}
