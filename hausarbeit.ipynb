{
 "cells": [
  {
   "attachments": {},
   "cell_type": "markdown",
   "metadata": {},
   "source": [
    "# Hausarbeit im Seminar Textanalyse WiSe 22/23\n",
    "## Research Question\n",
    "\n",
    "Wo sind die Parteien der UNi Wahlen in Göttingen im Vergleich zu Bundestagsparteien auf einer Links-Rechts Skala einzuordnen?\n",
    "\n",
    "## Vorbereitung\n",
    "Zunächst werden die Parteien definieiert und die Wahlprogramme (soweit vorhanden) eingelsen."
   ]
  },
  {
   "cell_type": "code",
   "execution_count": 21,
   "metadata": {},
   "outputs": [],
   "source": [
    "# import modules\n",
    "import pandas as pd\n",
    "from nltk.corpus import stopwords\n",
    "import spacy\n",
    "from wordscores3 import Wordscores\n",
    "import matplotlib.pyplot as plt"
   ]
  },
  {
   "cell_type": "code",
   "execution_count": 22,
   "metadata": {},
   "outputs": [
    {
     "data": {
      "text/html": [
       "<div>\n",
       "<style scoped>\n",
       "    .dataframe tbody tr th:only-of-type {\n",
       "        vertical-align: middle;\n",
       "    }\n",
       "\n",
       "    .dataframe tbody tr th {\n",
       "        vertical-align: top;\n",
       "    }\n",
       "\n",
       "    .dataframe thead th {\n",
       "        text-align: right;\n",
       "    }\n",
       "</style>\n",
       "<table border=\"1\" class=\"dataframe\">\n",
       "  <thead>\n",
       "    <tr style=\"text-align: right;\">\n",
       "      <th></th>\n",
       "      <th>party</th>\n",
       "      <th>program</th>\n",
       "    </tr>\n",
       "  </thead>\n",
       "  <tbody>\n",
       "    <tr>\n",
       "      <th>0</th>\n",
       "      <td>ALL_BB</td>\n",
       "      <td>test test test Email sent, waiting for response</td>\n",
       "    </tr>\n",
       "    <tr>\n",
       "      <th>1</th>\n",
       "      <td>GDF</td>\n",
       "      <td>Hochschulpolitik - Nicht mehr und nicht wenige...</td>\n",
       "    </tr>\n",
       "    <tr>\n",
       "      <th>2</th>\n",
       "      <td>GHG</td>\n",
       "      <td>Liebe Studis, \\nEs ist wieder so weit, die Hoc...</td>\n",
       "    </tr>\n",
       "    <tr>\n",
       "      <th>3</th>\n",
       "      <td>JUSO</td>\n",
       "      <td>Liebe Wähler*innen,\\nvor euch seht ihr unser W...</td>\n",
       "    </tr>\n",
       "    <tr>\n",
       "      <th>4</th>\n",
       "      <td>LHG</td>\n",
       "      <td>AStA-Beiträge senken\\nAllgemeine Studiengebühr...</td>\n",
       "    </tr>\n",
       "    <tr>\n",
       "      <th>5</th>\n",
       "      <td>LISTE_VOLT</td>\n",
       "      <td>Volt &amp; Die LISTE verstehen sich als linkes, pr...</td>\n",
       "    </tr>\n",
       "    <tr>\n",
       "      <th>6</th>\n",
       "      <td>NORDCAMPUS</td>\n",
       "      <td>Mehr interdisziplinäre Zusammenarbeit\\nViele S...</td>\n",
       "    </tr>\n",
       "    <tr>\n",
       "      <th>7</th>\n",
       "      <td>RCDS</td>\n",
       "      <td>Auslandsstudium\\nWer ein Semester im Ausland v...</td>\n",
       "    </tr>\n",
       "    <tr>\n",
       "      <th>8</th>\n",
       "      <td>AFD</td>\n",
       "      <td>Deutschland. Aber normal. Programm der Alterna...</td>\n",
       "    </tr>\n",
       "    <tr>\n",
       "      <th>9</th>\n",
       "      <td>LINKE</td>\n",
       "      <td>Zeit zu handeln! Für soziale Sicherheit, Fried...</td>\n",
       "    </tr>\n",
       "  </tbody>\n",
       "</table>\n",
       "</div>"
      ],
      "text/plain": [
       "        party                                            program\n",
       "0      ALL_BB    test test test Email sent, waiting for response\n",
       "1         GDF  Hochschulpolitik - Nicht mehr und nicht wenige...\n",
       "2         GHG  Liebe Studis, \\nEs ist wieder so weit, die Hoc...\n",
       "3        JUSO  Liebe Wähler*innen,\\nvor euch seht ihr unser W...\n",
       "4         LHG  AStA-Beiträge senken\\nAllgemeine Studiengebühr...\n",
       "5  LISTE_VOLT  Volt & Die LISTE verstehen sich als linkes, pr...\n",
       "6  NORDCAMPUS  Mehr interdisziplinäre Zusammenarbeit\\nViele S...\n",
       "7        RCDS  Auslandsstudium\\nWer ein Semester im Ausland v...\n",
       "8         AFD  Deutschland. Aber normal. Programm der Alterna...\n",
       "9       LINKE  Zeit zu handeln! Für soziale Sicherheit, Fried..."
      ]
     },
     "execution_count": 22,
     "metadata": {},
     "output_type": "execute_result"
    }
   ],
   "source": [
    "PARTIES = [\n",
    "    \"ALL_BB\",\n",
    "    \"GDF\",\n",
    "    \"GHG\",\n",
    "    \"JUSO\",\n",
    "    \"LHG\",\n",
    "    \"LISTE_VOLT\",\n",
    "    \"NORDCAMPUS\",\n",
    "    \"RCDS\"\n",
    "]\n",
    "\n",
    "PROGRAMS = {}\n",
    "\n",
    "for party in PARTIES:\n",
    "    with open(f\"{party}.txt\", \"r\", encoding=\"utf-8\") as f:\n",
    "        file_content = f.read()\n",
    "        PROGRAMS[party] = file_content\n",
    "\n",
    "df = pd.DataFrame(PROGRAMS.items(), columns=[\"party\", \"program\"])\n",
    "\n",
    "# MARPOR data for reference texts\n",
    "df_afd = pd.read_csv(\"AfD2021.csv\")\n",
    "text = \" \".join(df_afd.text)\n",
    "new_row = [\"AFD\", text]\n",
    "df.loc[len(df)] = new_row\n",
    "\n",
    "df_afd = pd.read_csv(\"Linke2021.csv\")\n",
    "text = \" \".join(df_afd.text)\n",
    "new_row = [\"LINKE\", text]\n",
    "df.loc[len(df)] = new_row\n",
    "\n",
    "\n",
    "df"
   ]
  },
  {
   "attachments": {},
   "cell_type": "markdown",
   "metadata": {},
   "source": [
    "## Data Cleaning\n",
    "Im nächsten Schritt werden die Wahlprogramme gereinigt. Das Bedeutet, dass einige, für die Analyse unwichtige oder störende, Elemente gelöscht werden. Darunter zählen:\n",
    "- Zeilenumbrüche\n",
    "- großbuchstaben (werden klein geschrieben)\n",
    "- anderes"
   ]
  },
  {
   "cell_type": "code",
   "execution_count": 3,
   "metadata": {},
   "outputs": [
    {
     "name": "stdout",
     "output_type": "stream",
     "text": [
      "1/10...\n",
      "2/10...\n",
      "3/10...\n",
      "4/10...\n",
      "5/10...\n",
      "6/10...\n",
      "7/10...\n",
      "8/10...\n",
      "9/10...\n",
      "10/10...\n"
     ]
    },
    {
     "data": {
      "text/plain": [
       "0               [email, senen, waiting, for, response]\n",
       "1    [hochschulpolitik, mehr, weniger, hochschulpol...\n",
       "2    [liebe, studi, weit, hochschulwahle, stehen, 1...\n",
       "3    [lieb, wähler*innen, sehen, wahlprogramm, hoch...\n",
       "4    [asta-beitrag, senken, allgemein, studiengebüh...\n",
       "5    [volt, liste, verstehen, linkes, progressiv, q...\n",
       "6    [mehr, interdisziplinär, zusammenarbeit, viele...\n",
       "7    [auslandsstudium, wer, semester, ausland, verb...\n",
       "8    [deutschland, normal, programm, alternative, f...\n",
       "9    [zeit, handeln, sozial, sicherheit, frieden, k...\n",
       "Name: program, dtype: object"
      ]
     },
     "execution_count": 3,
     "metadata": {},
     "output_type": "execute_result"
    }
   ],
   "source": [
    "# stopwords definieren\n",
    "custom_stopwords = [\"test\"]\n",
    "stopwords_used = stopwords.words(\"german\") + custom_stopwords\n",
    "\n",
    "# lemmatization setup\n",
    "nlp = spacy.load('de_core_news_sm')\n",
    "\n",
    "\n",
    "for i, prog in df.program.items():\n",
    "    print(f\"Current: {i+1}/{len(df.program)}...\")\n",
    "    # lemma\n",
    "    nlp_doc = nlp(prog)\n",
    "    lemma_list = [x.lemma_ for x in nlp_doc]\n",
    "\n",
    "    # remove stopwords and lower\n",
    "    no_stopwords = [word.lower() for word in lemma_list if word.lower() not in stopwords_used]\n",
    "\n",
    "    # remove short tokens\n",
    "    min_len = 3\n",
    "    new_list = [word for word in no_stopwords if len(word) >= min_len]\n",
    "\n",
    "\n",
    "    # save to df\n",
    "    df.program[i] = new_list\n",
    "\n",
    "\n",
    "df.program"
   ]
  },
  {
   "attachments": {},
   "cell_type": "markdown",
   "metadata": {},
   "source": [
    "## Wordscores berechnen"
   ]
  },
  {
   "cell_type": "code",
   "execution_count": 4,
   "metadata": {},
   "outputs": [],
   "source": [
    "def create_word_frequency_matrix(index: int) -> pd.DataFrame:\n",
    "    absolute_freq = pd.Series(df.program[index]).value_counts()\n",
    "    relative_freq = pd.Series(df.program[index]).value_counts(normalize=True)\n",
    "    word_freq_df = pd.DataFrame({\n",
    "        \"abs_freq\": absolute_freq,\n",
    "        \"rel_freq\": relative_freq\n",
    "    })\n",
    "\n",
    "    return(word_freq_df)\n",
    "\n",
    "for i in range(len(df)):\n",
    "    create_word_frequency_matrix(i).to_csv(f\"inputdata/{df.party[i]}.csv\", header=False)\n",
    "\n"
   ]
  },
  {
   "cell_type": "code",
   "execution_count": 8,
   "metadata": {},
   "outputs": [
    {
     "name": "stderr",
     "output_type": "stream",
     "text": [
      "c:\\Users\\User\\Desktop\\Uni\\WiSe 22-23\\Empirische Demokratieforschung\\Seminar_Methoden_der_Analyse_politischer_Texte_und_ihre_Anwendung\\python_code\\hausarbeit\\wordscores3.py:56: FutureWarning: Dropping of nuisance columns in DataFrame reductions (with 'numeric_only=None') is deprecated; in a future version this will raise TypeError.  Select only valid columns before calling the reduction.\n",
      "  self.P_wr = self.F_wr.iloc[:, 1:].div(self.F_wr.sum(axis = 1), axis = 0)\n"
     ]
    },
    {
     "name": "stdout",
     "output_type": "stream",
     "text": [
      "                score\n",
      "GDF         -8.817810\n",
      "GHG         -9.402269\n",
      "JUSO        -9.122436\n",
      "LHG         -5.933416\n",
      "LISTE_VOLT -10.391655\n",
      "NORDCAMPUS  -8.918255\n",
      "RCDS        -5.956641\n"
     ]
    }
   ],
   "source": [
    "MARPOR_RILE_2019 = {\n",
    "    \"GRÜNE\": -21.038,\n",
    "    \"LINKE\": -36.167,\n",
    "    \"SPD\": -24.673,\n",
    "    \"FDP\": 0.266,\n",
    "    \"CDU\": 3.495,\n",
    "    \"AFD\": 26.048\n",
    "}\n",
    "\n",
    "A_r = pd.DataFrame({'LINKE': MARPOR_RILE_2019[\"LINKE\"],\n",
    "                   'AFD': MARPOR_RILE_2019[\"AFD\"]},\n",
    "                   index = ['score'])\n",
    "\n",
    "W = Wordscores(A_r=A_r)\n",
    "\n",
    "results_rile = W.run()[1:]\n",
    "print(results_rile)\n",
    "\n",
    "#GDF         -8.817810\n",
    "#GHG         -9.402269\n",
    "#JUSO        -9.122436\n",
    "#LHG         -5.933416\n",
    "#LISTE_VOLT -10.391655\n",
    "#NORDCAMPUS  -8.918255\n",
    "#RCDS        -5.956641"
   ]
  },
  {
   "cell_type": "code",
   "execution_count": 19,
   "metadata": {},
   "outputs": [
    {
     "data": {
      "image/png": "[encoded data removed]",
      "text/plain": [
       "<Figure size 1296x288 with 1 Axes>"
      ]
     },
     "metadata": {
      "needs_background": "light"
     },
     "output_type": "display_data"
    }
   ],
   "source": [
    "fig, ax = plt.subplots()\n",
    "fig.set_size_inches(18, 4)\n",
    "\n",
    "x = results_rile.score\n",
    "y = [0] * len(results_rile)\n",
    "ax.scatter(x, y)\n",
    "txt = results_rile.index\n",
    "for i, txt in enumerate(txt):\n",
    "    ax.annotate(txt, (x[i], y[i]), rotation=45)\n",
    "\n",
    "# ax.axis(\"off\")\n",
    "plt.show()"
   ]
  },
  {
   "cell_type": "code",
   "execution_count": 20,
   "metadata": {},
   "outputs": [
    {
     "data": {
      "image/png": "[encoded data removed]",
      "text/plain": [
       "<Figure size 1296x288 with 1 Axes>"
      ]
     },
     "metadata": {
      "needs_background": "light"
     },
     "output_type": "display_data"
    }
   ],
   "source": [
    "fig, ax = plt.subplots()\n",
    "fig.set_size_inches(18, 4)\n",
    "\n",
    "x = results_rile.score\n",
    "y = [0] * len(results_rile)\n",
    "ax.scatter(x, y)\n",
    "txt = results_rile.index\n",
    "for i, txt in enumerate(txt):\n",
    "    ax.annotate(txt, (x[i], y[i]), rotation=45)\n",
    "\n",
    "# add bundestag parties\n",
    "p_names = MARPOR_RILE_2019.keys()\n",
    "x_bund = [MARPOR_RILE_2019[p_name] for p_name in p_names]\n",
    "y_bund = [0] * len(x_bund) # \n",
    "ax.scatter(x_bund, y_bund)\n",
    "\n",
    "\n",
    "for i, p_name in enumerate(p_names):\n",
    "    ax.annotate(p_name, (x_bund[i], y_bund[i]), rotation=45)\n",
    "\n",
    "# ax.axis(\"off\")\n",
    "plt.show()"
   ]
  },
  {
   "attachments": {},
   "cell_type": "markdown",
   "metadata": {},
   "source": [
    "## Weitere Ideen:\n",
    "- Textskalierungsverfahren für explorativere analyse\n",
    "- Wordfish, wahrscheinlich wenig sinnvoll wegen lantenter dimension ohne vergleichswert für Uni-Wahlen"
   ]
  }
 ],
 "metadata": {
  "kernelspec": {
   "display_name": "Pygame",
   "language": "python",
   "name": "python3"
  },
  "language_info": {
   "codemirror_mode": {
    "name": "ipython",
    "version": 3
   },
   "file_extension": ".py",
   "mimetype": "text/x-python",
   "name": "python",
   "nbconvert_exporter": "python",
   "pygments_lexer": "ipython3",
   "version": "3.9.0"
  },
  "orig_nbformat": 4,
  "vscode": {
   "interpreter": {
    "hash": "68f718978781f2d56aeb50d49bc7bf5e93e7cb5af42a5cb959d972a377b115b9"
   }
  }
 },
 "nbformat": 4,
 "nbformat_minor": 2
}
