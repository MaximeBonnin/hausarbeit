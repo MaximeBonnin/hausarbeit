{
 "cells": [
  {
   "attachments": {},
   "cell_type": "markdown",
   "metadata": {},
   "source": [
    "# Hausarbeit im Seminar Textanalyse WiSe 22/23\n",
    "## Research Question\n",
    "\n",
    "Wo sind die Parteien der UNi Wahlen in Göttingen im Vergleich zu Bundestagsparteien auf einer Links-Rechts Skala einzuordnen?\n",
    "\n",
    "## Vorbereitung\n",
    "Zunächst werden die Parteien definieiert und die Wahlprogramme (soweit vorhanden) eingelsen."
   ]
  },
  {
   "cell_type": "code",
   "execution_count": 1,
   "metadata": {},
   "outputs": [],
   "source": [
    "# import modules\n",
    "import pandas as pd\n",
    "from nltk.corpus import stopwords\n",
    "import spacy\n",
    "from wordscores3 import Wordscores\n",
    "import matplotlib.pyplot as plt"
   ]
  },
  {
   "cell_type": "code",
   "execution_count": 2,
   "metadata": {},
   "outputs": [
    {
     "data": {
      "text/html": [
       "<div>\n",
       "<style scoped>\n",
       "    .dataframe tbody tr th:only-of-type {\n",
       "        vertical-align: middle;\n",
       "    }\n",
       "\n",
       "    .dataframe tbody tr th {\n",
       "        vertical-align: top;\n",
       "    }\n",
       "\n",
       "    .dataframe thead th {\n",
       "        text-align: right;\n",
       "    }\n",
       "</style>\n",
       "<table border=\"1\" class=\"dataframe\">\n",
       "  <thead>\n",
       "    <tr style=\"text-align: right;\">\n",
       "      <th></th>\n",
       "      <th>party</th>\n",
       "      <th>program</th>\n",
       "    </tr>\n",
       "  </thead>\n",
       "  <tbody>\n",
       "    <tr>\n",
       "      <th>0</th>\n",
       "      <td>ALL_BB</td>\n",
       "      <td>test test test Email sent, waiting for response</td>\n",
       "    </tr>\n",
       "    <tr>\n",
       "      <th>1</th>\n",
       "      <td>GDF</td>\n",
       "      <td>Hochschulpolitik - Nicht mehr und nicht wenige...</td>\n",
       "    </tr>\n",
       "    <tr>\n",
       "      <th>2</th>\n",
       "      <td>GHG</td>\n",
       "      <td>Liebe Studis, \\nEs ist wieder so weit, die Hoc...</td>\n",
       "    </tr>\n",
       "    <tr>\n",
       "      <th>3</th>\n",
       "      <td>JUSO</td>\n",
       "      <td>Liebe Wähler*innen,\\nvor euch seht ihr unser W...</td>\n",
       "    </tr>\n",
       "    <tr>\n",
       "      <th>4</th>\n",
       "      <td>LHG</td>\n",
       "      <td>AStA-Beiträge senken\\nAllgemeine Studiengebühr...</td>\n",
       "    </tr>\n",
       "    <tr>\n",
       "      <th>5</th>\n",
       "      <td>LISTE_VOLT</td>\n",
       "      <td>Volt &amp; Die LISTE verstehen sich als linkes, pr...</td>\n",
       "    </tr>\n",
       "    <tr>\n",
       "      <th>6</th>\n",
       "      <td>NORDCAMPUS</td>\n",
       "      <td>Mehr interdisziplinäre Zusammenarbeit\\nViele S...</td>\n",
       "    </tr>\n",
       "    <tr>\n",
       "      <th>7</th>\n",
       "      <td>RCDS</td>\n",
       "      <td>Auslandsstudium\\nWer ein Semester im Ausland v...</td>\n",
       "    </tr>\n",
       "    <tr>\n",
       "      <th>8</th>\n",
       "      <td>CDU</td>\n",
       "      <td>Das Programm für Stabilität und Erneuerung. GE...</td>\n",
       "    </tr>\n",
       "    <tr>\n",
       "      <th>9</th>\n",
       "      <td>FDP</td>\n",
       "      <td>Nie gab es mehr zu tun Wahlprogramm der Freien...</td>\n",
       "    </tr>\n",
       "    <tr>\n",
       "      <th>10</th>\n",
       "      <td>Grüne</td>\n",
       "      <td>Deutschland. Alles ist drin. Bundestagswahlpro...</td>\n",
       "    </tr>\n",
       "    <tr>\n",
       "      <th>11</th>\n",
       "      <td>SPD</td>\n",
       "      <td>Aus Respekt vor deiner Zukunft Das Zukunftspro...</td>\n",
       "    </tr>\n",
       "    <tr>\n",
       "      <th>12</th>\n",
       "      <td>AfD</td>\n",
       "      <td>Deutschland. Aber normal. Programm der Alterna...</td>\n",
       "    </tr>\n",
       "    <tr>\n",
       "      <th>13</th>\n",
       "      <td>Linke</td>\n",
       "      <td>Zeit zu handeln! Für soziale Sicherheit, Fried...</td>\n",
       "    </tr>\n",
       "  </tbody>\n",
       "</table>\n",
       "</div>"
      ],
      "text/plain": [
       "         party                                            program\n",
       "0       ALL_BB    test test test Email sent, waiting for response\n",
       "1          GDF  Hochschulpolitik - Nicht mehr und nicht wenige...\n",
       "2          GHG  Liebe Studis, \\nEs ist wieder so weit, die Hoc...\n",
       "3         JUSO  Liebe Wähler*innen,\\nvor euch seht ihr unser W...\n",
       "4          LHG  AStA-Beiträge senken\\nAllgemeine Studiengebühr...\n",
       "5   LISTE_VOLT  Volt & Die LISTE verstehen sich als linkes, pr...\n",
       "6   NORDCAMPUS  Mehr interdisziplinäre Zusammenarbeit\\nViele S...\n",
       "7         RCDS  Auslandsstudium\\nWer ein Semester im Ausland v...\n",
       "8          CDU  Das Programm für Stabilität und Erneuerung. GE...\n",
       "9          FDP  Nie gab es mehr zu tun Wahlprogramm der Freien...\n",
       "10       Grüne  Deutschland. Alles ist drin. Bundestagswahlpro...\n",
       "11         SPD  Aus Respekt vor deiner Zukunft Das Zukunftspro...\n",
       "12         AfD  Deutschland. Aber normal. Programm der Alterna...\n",
       "13       Linke  Zeit zu handeln! Für soziale Sicherheit, Fried..."
      ]
     },
     "execution_count": 2,
     "metadata": {},
     "output_type": "execute_result"
    }
   ],
   "source": [
    "PARTIES = [\n",
    "    \"ALL_BB\",\n",
    "    \"GDF\",\n",
    "    \"GHG\",\n",
    "    \"JUSO\",\n",
    "    \"LHG\",\n",
    "    \"LISTE_VOLT\",\n",
    "    \"NORDCAMPUS\",\n",
    "    \"RCDS\"\n",
    "]\n",
    "\n",
    "PROGRAMS = {}\n",
    "\n",
    "for party in PARTIES:\n",
    "    with open(f\"{party}.txt\", \"r\", encoding=\"utf-8\") as f:\n",
    "        file_content = f.read()\n",
    "        PROGRAMS[party] = file_content\n",
    "\n",
    "df = pd.DataFrame(PROGRAMS.items(), columns=[\"party\", \"program\"])\n",
    "\n",
    "# MARPOR data for reference texts\n",
    "BUND_PARTIES = [\"CDU\", \"FDP\", \"Grüne\", \"SPD\", \"AfD\", \"Linke\"]\n",
    "for party_name in BUND_PARTIES:\n",
    "    new_df = pd.read_csv(f\"{party_name}2021.csv\")\n",
    "    text = \" \".join(new_df.text)\n",
    "    new_row = [party_name, text]\n",
    "    df.loc[len(df)] = new_row\n",
    "\n",
    "\n",
    "\n",
    "df"
   ]
  },
  {
   "attachments": {},
   "cell_type": "markdown",
   "metadata": {},
   "source": [
    "## Data Cleaning\n",
    "Im nächsten Schritt werden die Wahlprogramme gereinigt. Das Bedeutet, dass einige, für die Analyse unwichtige oder störende, Elemente gelöscht werden. Darunter zählen:\n",
    "- Zeilenumbrüche\n",
    "- großbuchstaben (werden klein geschrieben)\n",
    "- anderes"
   ]
  },
  {
   "cell_type": "code",
   "execution_count": 3,
   "metadata": {},
   "outputs": [
    {
     "name": "stdout",
     "output_type": "stream",
     "text": [
      "Current: 1/14...\n",
      "Current: 2/14...\n",
      "Current: 3/14...\n",
      "Current: 4/14...\n",
      "Current: 5/14...\n",
      "Current: 6/14...\n",
      "Current: 7/14...\n",
      "Current: 8/14...\n",
      "Current: 9/14...\n",
      "Current: 10/14...\n",
      "Current: 11/14...\n",
      "Current: 12/14...\n",
      "Current: 13/14...\n",
      "Current: 14/14...\n"
     ]
    },
    {
     "data": {
      "text/plain": [
       "0                [email, senen, waiting, for, response]\n",
       "1     [hochschulpolitik, mehr, weniger, hochschulpol...\n",
       "2     [liebe, studi, weit, hochschulwahle, stehen, 1...\n",
       "3     [lieb, wähler*innen, sehen, wahlprogramm, hoch...\n",
       "4     [asta-beitrag, senken, allgemein, studiengebüh...\n",
       "5     [volt, liste, verstehen, linkes, progressiv, q...\n",
       "6     [mehr, interdisziplinär, zusammenarbeit, viele...\n",
       "7     [auslandsstudium, wer, semester, ausland, verb...\n",
       "8     [programm, stabilität, erneuerung, gemeinsam, ...\n",
       "9     [nie, geben, mehr, tun, wahlprogramm, frei, de...\n",
       "10    [deutschland, drin, bundestagswahlprogramm, 20...\n",
       "11    [respekt, zukunft, zukunftsprogramm, spd, wofü...\n",
       "12    [deutschland, normal, programm, alternative, f...\n",
       "13    [zeit, handeln, sozial, sicherheit, frieden, k...\n",
       "Name: program, dtype: object"
      ]
     },
     "execution_count": 3,
     "metadata": {},
     "output_type": "execute_result"
    }
   ],
   "source": [
    "# stopwords definieren\n",
    "custom_stopwords = [\"test\"]\n",
    "stopwords_used = stopwords.words(\"german\") + custom_stopwords\n",
    "\n",
    "# lemmatization setup\n",
    "nlp = spacy.load('de_core_news_sm')\n",
    "\n",
    "\n",
    "for i, prog in df.program.items():\n",
    "    print(f\"Current: {i+1}/{len(df.program)}...\")\n",
    "    # lemma\n",
    "    nlp_doc = nlp(prog)\n",
    "    lemma_list = [x.lemma_ for x in nlp_doc]\n",
    "\n",
    "    # remove stopwords and lower\n",
    "    no_stopwords = [word.lower() for word in lemma_list if word.lower() not in stopwords_used]\n",
    "\n",
    "    # remove short tokens\n",
    "    min_len = 3\n",
    "    new_list = [word for word in no_stopwords if len(word) >= min_len]\n",
    "\n",
    "\n",
    "    # save to df\n",
    "    df.program[i] = new_list\n",
    "\n",
    "\n",
    "df.program"
   ]
  },
  {
   "attachments": {},
   "cell_type": "markdown",
   "metadata": {},
   "source": [
    "## Wordscores berechnen\n",
    "Basierend auf [Arbeit von Thiago Marzagao](https://thiagomarzagao.com/2013/06/10/wordscores-in-python/) und angepasst für python 3"
   ]
  },
  {
   "cell_type": "code",
   "execution_count": 4,
   "metadata": {},
   "outputs": [],
   "source": [
    "def create_word_frequency_matrix(index: int) -> pd.DataFrame:\n",
    "    absolute_freq = pd.Series(df.program[index]).value_counts()\n",
    "    relative_freq = pd.Series(df.program[index]).value_counts(normalize=True)\n",
    "    word_freq_df = pd.DataFrame({\n",
    "        \"abs_freq\": absolute_freq,\n",
    "        \"rel_freq\": relative_freq\n",
    "    })\n",
    "\n",
    "    return(word_freq_df)\n",
    "\n",
    "for i in range(len(df)):\n",
    "    create_word_frequency_matrix(i).to_csv(f\"inputdata/{df.party[i]}.csv\", header=False)\n",
    "\n"
   ]
  },
  {
   "cell_type": "code",
   "execution_count": 5,
   "metadata": {},
   "outputs": [
    {
     "name": "stderr",
     "output_type": "stream",
     "text": [
      "c:\\Users\\User\\Desktop\\Uni\\WiSe 22-23\\Empirische Demokratieforschung\\Seminar_Methoden_der_Analyse_politischer_Texte_und_ihre_Anwendung\\python_code\\hausarbeit\\wordscores3.py:56: FutureWarning: Dropping of nuisance columns in DataFrame reductions (with 'numeric_only=None') is deprecated; in a future version this will raise TypeError.  Select only valid columns before calling the reduction.\n",
      "  self.P_wr = self.F_wr.iloc[:, 1:].div(self.F_wr.sum(axis = 1), axis = 0)\n"
     ]
    },
    {
     "name": "stdout",
     "output_type": "stream",
     "text": [
      "                score\n",
      "GDF        -17.604873\n",
      "GHG        -23.568569\n",
      "JUSO       -25.132420\n",
      "LHG         -2.706329\n",
      "LISTE_VOLT -25.985172\n",
      "NORDCAMPUS -20.843544\n",
      "RCDS        -4.477446\n"
     ]
    }
   ],
   "source": [
    "MARPOR_RILE_2021 = {\n",
    "    \"GRÜNE\": -21.038,\n",
    "    \"LINKE\": -36.167,\n",
    "    \"SPD\": -24.673,\n",
    "    \"FDP\": 0.266,\n",
    "    \"CDU\": 3.495,\n",
    "    \"AFD\": 26.048\n",
    "}\n",
    "\n",
    "A_r = pd.DataFrame({'LINKE': MARPOR_RILE_2021[\"LINKE\"],\n",
    "                   'AFD': MARPOR_RILE_2021[\"AFD\"],\n",
    "                   \"Linke\": MARPOR_RILE_2021[\"LINKE\"],\n",
    "                   \"SPD\": MARPOR_RILE_2021[\"SPD\"],\n",
    "                   \"FDP\": MARPOR_RILE_2021[\"FDP\"],\n",
    "                   \"CDU\": MARPOR_RILE_2021[\"CDU\"],\n",
    "                   \"Grüne\": MARPOR_RILE_2021[\"GRÜNE\"]},\n",
    "                   index = ['score'])\n",
    "\n",
    "W = Wordscores(A_r=A_r)\n",
    "\n",
    "results_rile = W.run()[1:]\n",
    "print(results_rile)\n",
    "\n",
    "# ohne transformation:\n",
    "#                 score\n",
    "# GDF        -10.750870\n",
    "# GHG        -11.605535\n",
    "# JUSO       -11.829653\n",
    "# LHG         -8.615741\n",
    "# LISTE_VOLT -11.951862\n",
    "# NORDCAMPUS -11.215008\n",
    "# RCDS        -8.869562"
   ]
  },
  {
   "attachments": {},
   "cell_type": "markdown",
   "metadata": {},
   "source": [
    "## Positive Stellung zu Immigration als proxy für Kulturelle Dimension?\n",
    "MARPOR 602.2 Werte\n"
   ]
  },
  {
   "cell_type": "code",
   "execution_count": 6,
   "metadata": {},
   "outputs": [
    {
     "name": "stderr",
     "output_type": "stream",
     "text": [
      "c:\\Users\\User\\Desktop\\Uni\\WiSe 22-23\\Empirische Demokratieforschung\\Seminar_Methoden_der_Analyse_politischer_Texte_und_ihre_Anwendung\\python_code\\hausarbeit\\wordscores3.py:56: FutureWarning: Dropping of nuisance columns in DataFrame reductions (with 'numeric_only=None') is deprecated; in a future version this will raise TypeError.  Select only valid columns before calling the reduction.\n",
      "  self.P_wr = self.F_wr.iloc[:, 1:].div(self.F_wr.sum(axis = 1), axis = 0)\n"
     ]
    },
    {
     "name": "stdout",
     "output_type": "stream",
     "text": [
      "               score\n",
      "GDF         0.451185\n",
      "GHG         0.471391\n",
      "JUSO        0.533623\n",
      "LHG         0.403898\n",
      "LISTE_VOLT  0.528309\n",
      "NORDCAMPUS  0.505539\n",
      "RCDS        0.481976\n"
     ]
    }
   ],
   "source": [
    "MARPOR_IM_POS_2021 = { # MARPOR 602.2\n",
    "    \"GRÜNE\": 0.886,\n",
    "    \"LINKE\": 0.391,\n",
    "    \"SPD\": 0.654,\n",
    "    \"FDP\": 0.62,\n",
    "    \"CDU\": 0.685,\n",
    "    \"AFD\": 0\n",
    "}\n",
    "\n",
    "A_r = pd.DataFrame({'LINKE': MARPOR_IM_POS_2021[\"LINKE\"],\n",
    "                   'AFD': MARPOR_IM_POS_2021[\"AFD\"],\n",
    "                   \"Linke\": MARPOR_IM_POS_2021[\"LINKE\"],\n",
    "                   \"SPD\": MARPOR_IM_POS_2021[\"SPD\"],\n",
    "                   \"FDP\": MARPOR_IM_POS_2021[\"FDP\"],\n",
    "                   \"CDU\": MARPOR_IM_POS_2021[\"CDU\"],\n",
    "                   \"Grüne\": MARPOR_IM_POS_2021[\"GRÜNE\"]},\n",
    "                   index = ['score'])\n",
    "\n",
    "W = Wordscores(A_r=A_r)\n",
    "\n",
    "results_im_pos = W.run()[1:]\n",
    "print(results_im_pos)\n",
    "\n",
    "# ohne transformation:\n",
    "#                score\n",
    "# GDF         0.412069\n",
    "# GHG         0.420841\n",
    "# JUSO        0.447858\n",
    "# LHG         0.391540\n",
    "# LISTE_VOLT  0.445551\n",
    "# NORDCAMPUS  0.435666\n",
    "# RCDS        0.425437"
   ]
  },
  {
   "cell_type": "code",
   "execution_count": 7,
   "metadata": {},
   "outputs": [
    {
     "data": {
      "image/png": "[encoded data removed]",
      "text/plain": [
       "<Figure size 1296x288 with 1 Axes>"
      ]
     },
     "metadata": {
      "needs_background": "light"
     },
     "output_type": "display_data"
    }
   ],
   "source": [
    "fig, ax = plt.subplots()\n",
    "fig.set_size_inches(18, 4)\n",
    "\n",
    "x = results_rile.score\n",
    "y = results_im_pos.score\n",
    "ax.scatter(x, y)\n",
    "txt = results_rile.index\n",
    "for i, txt in enumerate(txt):\n",
    "    ax.annotate(txt, (x[i], y[i]), rotation=45)\n",
    "\n",
    "# ax.axis(\"off\")\n",
    "plt.show()"
   ]
  },
  {
   "cell_type": "code",
   "execution_count": 12,
   "metadata": {},
   "outputs": [
    {
     "data": {
      "image/png": "[encoded data removed]",
      "text/plain": [
       "<Figure size 1296x360 with 1 Axes>"
      ]
     },
     "metadata": {
      "needs_background": "light"
     },
     "output_type": "display_data"
    }
   ],
   "source": [
    "fig, ax = plt.subplots()\n",
    "fig.set_size_inches(18, 5)\n",
    "\n",
    "x = results_rile.score\n",
    "y = results_im_pos.score\n",
    "ax.scatter(x, y)\n",
    "txt = results_rile.index\n",
    "for i, txt in enumerate(txt):\n",
    "    ax.annotate(txt, (x[i], y[i]), rotation=45)\n",
    "\n",
    "# add bundestag parties\n",
    "p_names = MARPOR_RILE_2021.keys()\n",
    "x_bund = [MARPOR_RILE_2021[p_name] for p_name in p_names]\n",
    "y_bund = [MARPOR_IM_POS_2021[p_name] for p_name in p_names]\n",
    "ax.scatter(x_bund, y_bund)\n",
    "\n",
    "\n",
    "for i, p_name in enumerate(p_names):\n",
    "    ax.annotate(p_name, (x_bund[i], y_bund[i]), rotation=45)\n",
    "\n",
    "# ax.axis(\"off\")\n",
    "plt.show()"
   ]
  },
  {
   "attachments": {},
   "cell_type": "markdown",
   "metadata": {},
   "source": [
    "## Weitere Ideen:\n",
    "- Textskalierungsverfahren für explorativere analyse\n",
    "- Wordfish, wahrscheinlich wenig sinnvoll wegen lantenter dimension ohne vergleichswert für Uni-Wahlen"
   ]
  }
 ],
 "metadata": {
  "kernelspec": {
   "display_name": "Pygame",
   "language": "python",
   "name": "python3"
  },
  "language_info": {
   "codemirror_mode": {
    "name": "ipython",
    "version": 3
   },
   "file_extension": ".py",
   "mimetype": "text/x-python",
   "name": "python",
   "nbconvert_exporter": "python",
   "pygments_lexer": "ipython3",
   "version": "3.9.0"
  },
  "orig_nbformat": 4,
  "vscode": {
   "interpreter": {
    "hash": "68f718978781f2d56aeb50d49bc7bf5e93e7cb5af42a5cb959d972a377b115b9"
   }
  }
 },
 "nbformat": 4,
 "nbformat_minor": 2
}
